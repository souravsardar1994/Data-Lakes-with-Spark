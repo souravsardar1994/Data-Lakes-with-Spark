{
 "cells": [
  {
   "cell_type": "code",
   "execution_count": 83,
   "metadata": {
    "editable": true
   },
   "outputs": [],
   "source": [
    "import configparser\n",
    "from datetime import datetime\n",
    "import os\n",
    "from pyspark.sql import SparkSession\n",
    "from pyspark.sql.functions import udf, col\n",
    "from pyspark.sql.functions import year, month, dayofmonth, hour, weekofyear, date_format\n",
    "from pyspark.sql.types import TimestampType\n",
    "from pyspark.sql.functions import monotonically_increasing_id\n"
   ]
  },
  {
   "cell_type": "code",
   "execution_count": 2,
   "metadata": {
    "editable": true
   },
   "outputs": [],
   "source": [
    "spark = SparkSession \\\n",
    "        .builder \\\n",
    "        .getOrCreate()"
   ]
  },
  {
   "cell_type": "code",
   "execution_count": 3,
   "metadata": {
    "editable": true
   },
   "outputs": [
    {
     "data": {
      "text/html": [
       "\n",
       "            <div>\n",
       "                <p><b>SparkSession - in-memory</b></p>\n",
       "                \n",
       "        <div>\n",
       "            <p><b>SparkContext</b></p>\n",
       "\n",
       "            <p><a href=\"http://b9ffb079601b:4040\">Spark UI</a></p>\n",
       "\n",
       "            <dl>\n",
       "              <dt>Version</dt>\n",
       "                <dd><code>v2.4.3</code></dd>\n",
       "              <dt>Master</dt>\n",
       "                <dd><code>local[*]</code></dd>\n",
       "              <dt>AppName</dt>\n",
       "                <dd><code>pyspark-shell</code></dd>\n",
       "            </dl>\n",
       "        </div>\n",
       "        \n",
       "            </div>\n",
       "        "
      ],
      "text/plain": [
       "<pyspark.sql.session.SparkSession at 0x7f9c48bda668>"
      ]
     },
     "execution_count": 3,
     "metadata": {},
     "output_type": "execute_result"
    }
   ],
   "source": [
    "spark"
   ]
  },
  {
   "cell_type": "code",
   "execution_count": 4,
   "metadata": {
    "editable": true
   },
   "outputs": [],
   "source": [
    "song_data = \"song_data/*/*/*\""
   ]
  },
  {
   "cell_type": "code",
   "execution_count": 5,
   "metadata": {
    "editable": true
   },
   "outputs": [
    {
     "data": {
      "text/plain": [
       "'/home/workspace'"
      ]
     },
     "execution_count": 5,
     "metadata": {},
     "output_type": "execute_result"
    }
   ],
   "source": [
    "pwd"
   ]
  },
  {
   "cell_type": "code",
   "execution_count": 6,
   "metadata": {
    "editable": true
   },
   "outputs": [
    {
     "name": "stdout",
     "output_type": "stream",
     "text": [
      "\u001b[0m\u001b[01;34mdata\u001b[0m/   etl.py     README.md   \u001b[01;34mspark-warehouse\u001b[0m/\n",
      "dl.cfg  \u001b[01;34mlog_data\u001b[0m/  \u001b[01;34msong_data\u001b[0m/  Untitled.ipynb\n"
     ]
    }
   ],
   "source": [
    "ls"
   ]
  },
  {
   "cell_type": "code",
   "execution_count": 7,
   "metadata": {
    "editable": true
   },
   "outputs": [
    {
     "name": "stdout",
     "output_type": "stream",
     "text": [
      "Archive:  data/song-data.zip\n",
      "   creating: song_data/\n",
      "  inflating: song_data/.DS_Store     \n",
      "   creating: song_data/A/\n",
      "  inflating: song_data/A/.DS_Store   \n",
      "   creating: song_data/A/A/\n",
      "  inflating: song_data/A/A/.DS_Store  \n",
      "   creating: song_data/A/A/A/\n",
      "  inflating: song_data/A/A/A/TRAAAAW128F429D538.json  \n",
      "  inflating: song_data/A/A/A/TRAAABD128F429CF47.json  \n",
      "  inflating: song_data/A/A/A/TRAAADZ128F9348C2E.json  \n",
      "  inflating: song_data/A/A/A/TRAAAEF128F4273421.json  \n",
      "  inflating: song_data/A/A/A/TRAAAFD128F92F423A.json  \n",
      "  inflating: song_data/A/A/A/TRAAAMO128F1481E7F.json  \n",
      "  inflating: song_data/A/A/A/TRAAAMQ128F1460CD3.json  \n",
      "  inflating: song_data/A/A/A/TRAAAPK128E0786D96.json  \n",
      "  inflating: song_data/A/A/A/TRAAARJ128F9320760.json  \n",
      "  inflating: song_data/A/A/A/TRAAAVG12903CFA543.json  \n",
      "  inflating: song_data/A/A/A/TRAAAVO128F93133D4.json  \n",
      "   creating: song_data/A/A/B/\n",
      "  inflating: song_data/A/A/B/TRAABCL128F4286650.json  \n",
      "  inflating: song_data/A/A/B/TRAABDL12903CAABBA.json  \n",
      "  inflating: song_data/A/A/B/TRAABJL12903CDCF1A.json  \n",
      "  inflating: song_data/A/A/B/TRAABJV128F1460C49.json  \n",
      "  inflating: song_data/A/A/B/TRAABLR128F423B7E3.json  \n",
      "  inflating: song_data/A/A/B/TRAABNV128F425CEE1.json  \n",
      "  inflating: song_data/A/A/B/TRAABRB128F9306DD5.json  \n",
      "  inflating: song_data/A/A/B/TRAABVM128F92CA9DC.json  \n",
      "  inflating: song_data/A/A/B/TRAABXG128F9318EBD.json  \n",
      "  inflating: song_data/A/A/B/TRAABYN12903CFD305.json  \n",
      "  inflating: song_data/A/A/B/TRAABYW128F4244559.json  \n",
      "   creating: song_data/A/A/C/\n",
      "  inflating: song_data/A/A/C/TRAACCG128F92E8A55.json  \n",
      "  inflating: song_data/A/A/C/TRAACER128F4290F96.json  \n",
      "  inflating: song_data/A/A/C/TRAACFV128F935E50B.json  \n",
      "  inflating: song_data/A/A/C/TRAACHN128F1489601.json  \n",
      "  inflating: song_data/A/A/C/TRAACIW12903CC0F6D.json  \n",
      "  inflating: song_data/A/A/C/TRAACLV128F427E123.json  \n",
      "  inflating: song_data/A/A/C/TRAACNS128F14A2DF5.json  \n",
      "  inflating: song_data/A/A/C/TRAACOW128F933E35F.json  \n",
      "  inflating: song_data/A/A/C/TRAACPE128F421C1B9.json  \n",
      "  inflating: song_data/A/A/C/TRAACQT128F9331780.json  \n",
      "  inflating: song_data/A/A/C/TRAACSL128F93462F4.json  \n",
      "  inflating: song_data/A/A/C/TRAACTB12903CAAF15.json  \n",
      "  inflating: song_data/A/A/C/TRAACVS128E078BE39.json  \n",
      "  inflating: song_data/A/A/C/TRAACZK128F4243829.json  \n",
      "   creating: song_data/A/B/\n",
      "  inflating: song_data/A/B/.DS_Store  \n",
      "   creating: song_data/A/B/A/\n",
      "  inflating: song_data/A/B/A/TRABACN128F425B784.json  \n",
      "  inflating: song_data/A/B/A/TRABAFJ128F42AF24E.json  \n",
      "  inflating: song_data/A/B/A/TRABAFP128F931E9A1.json  \n",
      "  inflating: song_data/A/B/A/TRABAIO128F42938F9.json  \n",
      "  inflating: song_data/A/B/A/TRABATO128F42627E9.json  \n",
      "  inflating: song_data/A/B/A/TRABAVQ12903CBF7E0.json  \n",
      "  inflating: song_data/A/B/A/TRABAWW128F4250A31.json  \n",
      "  inflating: song_data/A/B/A/TRABAXL128F424FC50.json  \n",
      "  inflating: song_data/A/B/A/TRABAXR128F426515F.json  \n",
      "  inflating: song_data/A/B/A/TRABAXV128F92F6AE3.json  \n",
      "  inflating: song_data/A/B/A/TRABAZH128F930419A.json  \n",
      "   creating: song_data/A/B/B/\n",
      "  inflating: song_data/A/B/B/TRABBAM128F429D223.json  \n",
      "  inflating: song_data/A/B/B/TRABBBV128F42967D7.json  \n",
      "  inflating: song_data/A/B/B/TRABBJE12903CDB442.json  \n",
      "  inflating: song_data/A/B/B/TRABBKX128F4285205.json  \n",
      "  inflating: song_data/A/B/B/TRABBLU128F93349CF.json  \n",
      "  inflating: song_data/A/B/B/TRABBNP128F932546F.json  \n",
      "  inflating: song_data/A/B/B/TRABBOP128F931B50D.json  \n",
      "  inflating: song_data/A/B/B/TRABBOR128F4286200.json  \n",
      "  inflating: song_data/A/B/B/TRABBTA128F933D304.json  \n",
      "  inflating: song_data/A/B/B/TRABBVJ128F92F7EAA.json  \n",
      "  inflating: song_data/A/B/B/TRABBXU128F92FEF48.json  \n",
      "  inflating: song_data/A/B/B/TRABBZN12903CD9297.json  \n",
      "   creating: song_data/A/B/C/\n",
      "  inflating: song_data/A/B/C/TRABCAJ12903CDFCC2.json  \n",
      "  inflating: song_data/A/B/C/TRABCEC128F426456E.json  \n",
      "  inflating: song_data/A/B/C/TRABCEI128F424C983.json  \n",
      "  inflating: song_data/A/B/C/TRABCFL128F149BB0D.json  \n",
      "  inflating: song_data/A/B/C/TRABCIX128F4265903.json  \n",
      "  inflating: song_data/A/B/C/TRABCKL128F423A778.json  \n",
      "  inflating: song_data/A/B/C/TRABCPZ128F4275C32.json  \n",
      "  inflating: song_data/A/B/C/TRABCRU128F423F449.json  \n",
      "  inflating: song_data/A/B/C/TRABCTK128F934B224.json  \n",
      "  inflating: song_data/A/B/C/TRABCUQ128E0783E2B.json  \n",
      "  inflating: song_data/A/B/C/TRABCXB128F4286BD3.json  \n",
      "  inflating: song_data/A/B/C/TRABCYE128F934CE1D.json  \n"
     ]
    }
   ],
   "source": [
    "!unzip data/song-data.zip"
   ]
  },
  {
   "cell_type": "code",
   "execution_count": 7,
   "metadata": {
    "editable": true
   },
   "outputs": [],
   "source": [
    "# read song data file\n",
    "df=spark.read.json(song_data)"
   ]
  },
  {
   "cell_type": "code",
   "execution_count": 8,
   "metadata": {
    "editable": true
   },
   "outputs": [
    {
     "name": "stdout",
     "output_type": "stream",
     "text": [
      "root\n",
      " |-- artist_id: string (nullable = true)\n",
      " |-- artist_latitude: double (nullable = true)\n",
      " |-- artist_location: string (nullable = true)\n",
      " |-- artist_longitude: double (nullable = true)\n",
      " |-- artist_name: string (nullable = true)\n",
      " |-- duration: double (nullable = true)\n",
      " |-- num_songs: long (nullable = true)\n",
      " |-- song_id: string (nullable = true)\n",
      " |-- title: string (nullable = true)\n",
      " |-- year: long (nullable = true)\n",
      "\n"
     ]
    }
   ],
   "source": [
    "df.printSchema()"
   ]
  },
  {
   "cell_type": "code",
   "execution_count": 9,
   "metadata": {
    "editable": true
   },
   "outputs": [],
   "source": [
    "# extract columns to create songs table\n",
    "songs_table=df['song_id','title','artist_id','year','duration']"
   ]
  },
  {
   "cell_type": "code",
   "execution_count": 10,
   "metadata": {
    "editable": true
   },
   "outputs": [],
   "source": [
    "song_table=songs_table.dropDuplicates(['song_id'])"
   ]
  },
  {
   "cell_type": "code",
   "execution_count": 11,
   "metadata": {
    "editable": true
   },
   "outputs": [],
   "source": [
    "# write songs table to parquet files partitioned by year and artist"
   ]
  },
  {
   "cell_type": "code",
   "execution_count": 12,
   "metadata": {
    "editable": true
   },
   "outputs": [],
   "source": [
    "# extract columns to create artists table\n",
    "artists_table = df['artist_id','artist_name','artist_location','artist_latitude','artist_longitude']"
   ]
  },
  {
   "cell_type": "code",
   "execution_count": 13,
   "metadata": {
    "editable": true
   },
   "outputs": [],
   "source": [
    "artists_table=artists_table.dropDuplicates(['artist_id'])"
   ]
  },
  {
   "cell_type": "code",
   "execution_count": 14,
   "metadata": {
    "editable": true
   },
   "outputs": [],
   "source": [
    "# write artists table to parquet files"
   ]
  },
  {
   "cell_type": "markdown",
   "metadata": {
    "editable": true
   },
   "source": [
    "## process_log_data"
   ]
  },
  {
   "cell_type": "code",
   "execution_count": 91,
   "metadata": {
    "editable": true
   },
   "outputs": [],
   "source": [
    "# read log data file\n",
    "df=spark.read.format('json').load(\"log_data/*\")"
   ]
  },
  {
   "cell_type": "code",
   "execution_count": 92,
   "metadata": {
    "editable": true
   },
   "outputs": [
    {
     "name": "stdout",
     "output_type": "stream",
     "text": [
      "root\n",
      " |-- artist: string (nullable = true)\n",
      " |-- auth: string (nullable = true)\n",
      " |-- firstName: string (nullable = true)\n",
      " |-- gender: string (nullable = true)\n",
      " |-- itemInSession: long (nullable = true)\n",
      " |-- lastName: string (nullable = true)\n",
      " |-- length: double (nullable = true)\n",
      " |-- level: string (nullable = true)\n",
      " |-- location: string (nullable = true)\n",
      " |-- method: string (nullable = true)\n",
      " |-- page: string (nullable = true)\n",
      " |-- registration: double (nullable = true)\n",
      " |-- sessionId: long (nullable = true)\n",
      " |-- song: string (nullable = true)\n",
      " |-- status: long (nullable = true)\n",
      " |-- ts: long (nullable = true)\n",
      " |-- userAgent: string (nullable = true)\n",
      " |-- userId: string (nullable = true)\n",
      "\n"
     ]
    }
   ],
   "source": [
    "df.printSchema()"
   ]
  },
  {
   "cell_type": "code",
   "execution_count": 93,
   "metadata": {
    "editable": true
   },
   "outputs": [],
   "source": [
    "# filter by actions for song plays\n",
    "#df1=df1.filter(df1['page']=='NextSong')"
   ]
  },
  {
   "cell_type": "code",
   "execution_count": 94,
   "metadata": {
    "editable": true
   },
   "outputs": [],
   "source": [
    "#get_timestamp = udf(lambda x: datetime.fromtimestamp(x/1000), TimestampType())\n",
    "#spark.udf.register(\"get_hour\", lambda x: int(datetime.datetime.fromtimestamp(x / 1000.0).hour))"
   ]
  },
  {
   "cell_type": "code",
   "execution_count": 95,
   "metadata": {
    "editable": true
   },
   "outputs": [],
   "source": [
    "# extract columns for users table  \n",
    "users_table=df['userId','firstName','lastName','gender','level']"
   ]
  },
  {
   "cell_type": "code",
   "execution_count": 96,
   "metadata": {
    "editable": true
   },
   "outputs": [],
   "source": [
    "users_table=users_table.dropDuplicates(['userId'])"
   ]
  },
  {
   "cell_type": "code",
   "execution_count": 97,
   "metadata": {
    "editable": true
   },
   "outputs": [
    {
     "name": "stdout",
     "output_type": "stream",
     "text": [
      "+------+---------+--------+------+-----+\n",
      "|userId|firstName|lastName|gender|level|\n",
      "+------+---------+--------+------+-----+\n",
      "|    51|     Maia|   Burke|     F| free|\n",
      "|     7|   Adelyn|  Jordan|     F| free|\n",
      "|    15|     Lily|    Koch|     F| paid|\n",
      "|    54|    Kaleb|    Cook|     M| free|\n",
      "|   101|   Jayden|     Fox|     M| free|\n",
      "+------+---------+--------+------+-----+\n",
      "only showing top 5 rows\n",
      "\n"
     ]
    }
   ],
   "source": [
    "users_table.show(5)"
   ]
  },
  {
   "cell_type": "code",
   "execution_count": 21,
   "metadata": {
    "editable": true
   },
   "outputs": [],
   "source": [
    "# write users table to parquet files"
   ]
  },
  {
   "cell_type": "code",
   "execution_count": 98,
   "metadata": {
    "editable": true
   },
   "outputs": [],
   "source": [
    "# create timestamp column from original timestamp column\n",
    "get_timestamp = udf(lambda x:str(int(int(x)/1000)))\n",
    "df = df.withColumn('timestamp',get_timestamp(df.ts))"
   ]
  },
  {
   "cell_type": "code",
   "execution_count": 99,
   "metadata": {
    "editable": true
   },
   "outputs": [],
   "source": [
    "# create datetime column from original timestamp column\n",
    "get_datetime = udf(lambda x : str(datetime.fromtimestamp(int(x)/1000)))\n",
    "df = df.withColumn('datetime',get_datetime(df.ts))"
   ]
  },
  {
   "cell_type": "code",
   "execution_count": 100,
   "metadata": {
    "editable": true
   },
   "outputs": [
    {
     "name": "stdout",
     "output_type": "stream",
     "text": [
      "+-----------+---------+---------+------+-------------+--------+---------+-----+----------------------------------+------+--------+-----------------+---------+---------------+------+-------------+-----------------------------------------------------------------------------------------------------------------------------------------+------+----------+--------------------------+\n",
      "|artist     |auth     |firstName|gender|itemInSession|lastName|length   |level|location                          |method|page    |registration     |sessionId|song           |status|ts           |userAgent                                                                                                                                |userId|timestamp |datetime                  |\n",
      "+-----------+---------+---------+------+-------------+--------+---------+-----+----------------------------------+------+--------+-----------------+---------+---------------+------+-------------+-----------------------------------------------------------------------------------------------------------------------------------------+------+----------+--------------------------+\n",
      "|Harmonia   |Logged In|Ryan     |M     |0            |Smith   |655.77751|free |San Jose-Sunnyvale-Santa Clara, CA|PUT   |NextSong|1.541016707796E12|583      |Sehr kosmisch  |200   |1542241826796|\"Mozilla/5.0 (X11; Linux x86_64) AppleWebKit/537.36 (KHTML, like Gecko) Ubuntu Chromium/36.0.1985.125 Chrome/36.0.1985.125 Safari/537.36\"|26    |1542241826|2018-11-15 00:30:26.796000|\n",
      "|The Prodigy|Logged In|Ryan     |M     |1            |Smith   |260.07465|free |San Jose-Sunnyvale-Santa Clara, CA|PUT   |NextSong|1.541016707796E12|583      |The Big Gundown|200   |1542242481796|\"Mozilla/5.0 (X11; Linux x86_64) AppleWebKit/537.36 (KHTML, like Gecko) Ubuntu Chromium/36.0.1985.125 Chrome/36.0.1985.125 Safari/537.36\"|26    |1542242481|2018-11-15 00:41:21.796000|\n",
      "+-----------+---------+---------+------+-------------+--------+---------+-----+----------------------------------+------+--------+-----------------+---------+---------------+------+-------------+-----------------------------------------------------------------------------------------------------------------------------------------+------+----------+--------------------------+\n",
      "only showing top 2 rows\n",
      "\n"
     ]
    }
   ],
   "source": [
    "df.show(2,truncate=False)"
   ]
  },
  {
   "cell_type": "code",
   "execution_count": 101,
   "metadata": {
    "editable": true
   },
   "outputs": [],
   "source": [
    "# extract columns to create time table\n",
    "time_table = df.select(\n",
    "    col('datetime').alias('start_time'),\n",
    "    hour('datetime').alias('hour'),\n",
    "    dayofmonth('datetime').alias('day'),\n",
    "    weekofyear('datetime').alias('week'),\n",
    "    month('datetime').alias('month'),\n",
    "    year('datetime').alias('year'),\n",
    "    date_format(\"datetime\",\"u\").alias('weekday')\n",
    ")"
   ]
  },
  {
   "cell_type": "code",
   "execution_count": 102,
   "metadata": {
    "editable": true
   },
   "outputs": [],
   "source": [
    "time_table=time_table.dropDuplicates(['start_time'])"
   ]
  },
  {
   "cell_type": "code",
   "execution_count": 105,
   "metadata": {
    "editable": true
   },
   "outputs": [
    {
     "name": "stdout",
     "output_type": "stream",
     "text": [
      "+--------------------------+----+---+----+-----+----+-------+\n",
      "|start_time                |hour|day|week|month|year|weekday|\n",
      "+--------------------------+----+---+----+-----+----+-------+\n",
      "|2018-11-02 10:24:12.796000|10  |2  |44  |11   |2018|5      |\n",
      "|2018-11-04 06:29:41.796000|6   |4  |44  |11   |2018|7      |\n",
      "|2018-11-04 09:28:01.796000|9   |4  |44  |11   |2018|7      |\n",
      "|2018-11-05 03:04:18.796000|3   |5  |45  |11   |2018|1      |\n",
      "|2018-11-05 10:20:49.796000|10  |5  |45  |11   |2018|1      |\n",
      "+--------------------------+----+---+----+-----+----+-------+\n",
      "only showing top 5 rows\n",
      "\n"
     ]
    }
   ],
   "source": [
    "time_table.show(5,truncate=False)"
   ]
  },
  {
   "cell_type": "code",
   "execution_count": null,
   "metadata": {
    "editable": true
   },
   "outputs": [],
   "source": [
    "# write time table to parquet files partitioned by year and month\n",
    "#time_table"
   ]
  },
  {
   "cell_type": "code",
   "execution_count": 106,
   "metadata": {
    "editable": true
   },
   "outputs": [],
   "source": [
    "# read in song data to use for songplays table\n",
    "song_df =spark.read.json(song_data)"
   ]
  },
  {
   "cell_type": "code",
   "execution_count": 107,
   "metadata": {
    "editable": true
   },
   "outputs": [
    {
     "name": "stdout",
     "output_type": "stream",
     "text": [
      "root\n",
      " |-- artist_id: string (nullable = true)\n",
      " |-- artist_latitude: double (nullable = true)\n",
      " |-- artist_location: string (nullable = true)\n",
      " |-- artist_longitude: double (nullable = true)\n",
      " |-- artist_name: string (nullable = true)\n",
      " |-- duration: double (nullable = true)\n",
      " |-- num_songs: long (nullable = true)\n",
      " |-- song_id: string (nullable = true)\n",
      " |-- title: string (nullable = true)\n",
      " |-- year: long (nullable = true)\n",
      "\n"
     ]
    }
   ],
   "source": [
    "#song_data\n",
    "song_df.printSchema()"
   ]
  },
  {
   "cell_type": "code",
   "execution_count": 108,
   "metadata": {
    "editable": true
   },
   "outputs": [
    {
     "name": "stdout",
     "output_type": "stream",
     "text": [
      "root\n",
      " |-- artist: string (nullable = true)\n",
      " |-- auth: string (nullable = true)\n",
      " |-- firstName: string (nullable = true)\n",
      " |-- gender: string (nullable = true)\n",
      " |-- itemInSession: long (nullable = true)\n",
      " |-- lastName: string (nullable = true)\n",
      " |-- length: double (nullable = true)\n",
      " |-- level: string (nullable = true)\n",
      " |-- location: string (nullable = true)\n",
      " |-- method: string (nullable = true)\n",
      " |-- page: string (nullable = true)\n",
      " |-- registration: double (nullable = true)\n",
      " |-- sessionId: long (nullable = true)\n",
      " |-- song: string (nullable = true)\n",
      " |-- status: long (nullable = true)\n",
      " |-- ts: long (nullable = true)\n",
      " |-- userAgent: string (nullable = true)\n",
      " |-- userId: string (nullable = true)\n",
      " |-- timestamp: string (nullable = true)\n",
      " |-- datetime: string (nullable = true)\n",
      "\n"
     ]
    }
   ],
   "source": [
    "#log_data\n",
    "df.printSchema()"
   ]
  },
  {
   "cell_type": "code",
   "execution_count": 127,
   "metadata": {
    "editable": true
   },
   "outputs": [],
   "source": [
    "# extract columns from joined song and log datasets to create songplays table \n",
    "df1=df.join(song_df,song_df.artist_name==df.artist) \n",
    "\n",
    "\n",
    "\n",
    "   # songplays_table = df.join(song_df, song_df.artist_name == df.artist)\n",
    "    #songplays_table = songplays_table.withColumn(\"songplay_id\",F.monotonically_increasing_id())\n",
    "    #songplays_table = songplays_table[['songplay_id', 'start_time', 'userId', 'level', 'song_id', \n",
    "                                      #'artist_id', 'sessionId', 'location', 'userAgent','month','year']]"
   ]
  },
  {
   "cell_type": "code",
   "execution_count": 128,
   "metadata": {
    "editable": true
   },
   "outputs": [],
   "source": [
    "df1=df1.withColumn(\"songplay_id\",monotonically_increasing_id())"
   ]
  },
  {
   "cell_type": "code",
   "execution_count": 130,
   "metadata": {
    "editable": true
   },
   "outputs": [],
   "source": [
    "songplays_table = df1.select(\n",
    "    col('songplay_id').alias('songplay_id'),\n",
    "    col('ts').alias('start_time'),\n",
    "    col('userID').alias('user_id'),\n",
    "    col('level').alias('level'),\n",
    "    col('song_id').alias('song_id'),\n",
    "    col('artist_id').alias('artist_id'),\n",
    "    col('sessionId').alias('sessionId'),\n",
    "    col('location').alias('location'),\n",
    "    col('userAgent').alias('userAgent'),\n",
    "    col('year').alias('year'),\n",
    "    month('datetime').alias('month')\n",
    ")"
   ]
  },
  {
   "cell_type": "code",
   "execution_count": 133,
   "metadata": {
    "editable": true
   },
   "outputs": [
    {
     "name": "stdout",
     "output_type": "stream",
     "text": [
      "+-----------+-------------+-------+-----+------------------+------------------+---------+--------------------+--------------------+----+-----+\n",
      "|songplay_id|   start_time|user_id|level|           song_id|         artist_id|sessionId|            location|           userAgent|year|month|\n",
      "+-----------+-------------+-------+-----+------------------+------------------+---------+--------------------+--------------------+----+-----+\n",
      "|          0|1542313967796|     44| paid|SOBONFF12A6D4F84D8|ARIK43K1187B9AE54C|      619|Waterloo-Cedar Fa...|Mozilla/5.0 (Maci...|1986|   11|\n",
      "|          1|1542837407796|     15| paid|SOZCTXZ12AB0182364|AR5KOSW1187FB35FF4|      818|Chicago-Napervill...|\"Mozilla/5.0 (X11...|   0|   11|\n",
      "+-----------+-------------+-------+-----+------------------+------------------+---------+--------------------+--------------------+----+-----+\n",
      "only showing top 2 rows\n",
      "\n"
     ]
    }
   ],
   "source": [
    "songplays_table.show(2)"
   ]
  },
  {
   "cell_type": "code",
   "execution_count": null,
   "metadata": {
    "editable": true
   },
   "outputs": [],
   "source": []
  },
  {
   "cell_type": "code",
   "execution_count": null,
   "metadata": {
    "editable": true
   },
   "outputs": [],
   "source": []
  },
  {
   "cell_type": "code",
   "execution_count": null,
   "metadata": {
    "editable": true
   },
   "outputs": [],
   "source": []
  },
  {
   "cell_type": "code",
   "execution_count": null,
   "metadata": {
    "editable": true
   },
   "outputs": [],
   "source": []
  },
  {
   "cell_type": "code",
   "execution_count": null,
   "metadata": {
    "editable": true
   },
   "outputs": [],
   "source": []
  }
 ],
 "metadata": {
  "kernelspec": {
   "display_name": "Python 3",
   "language": "python",
   "name": "python3"
  },
  "language_info": {
   "codemirror_mode": {
    "name": "ipython",
    "version": 3
   },
   "file_extension": ".py",
   "mimetype": "text/x-python",
   "name": "python",
   "nbconvert_exporter": "python",
   "pygments_lexer": "ipython3",
   "version": "3.7.4"
  }
 },
 "nbformat": 4,
 "nbformat_minor": 4
}
